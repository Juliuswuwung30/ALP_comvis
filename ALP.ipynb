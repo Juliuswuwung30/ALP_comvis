{
 "cells": [
  {
   "cell_type": "markdown",
   "metadata": {},
   "source": [
    "Dataset : https://drive.google.com/drive/folders/1P4XPsBgkIYHaq2qaQjr1PysnOjydRsRw?usp=drive_link "
   ]
  },
  {
   "cell_type": "code",
   "execution_count": null,
   "metadata": {
    "id": "b1fxQccbbZ3e"
   },
   "outputs": [],
   "source": [
    "# Import pustaka penting\n",
    "import tensorflow as tf\n",
    "from tensorflow.keras.applications import EfficientNetB2\n",
    "from tensorflow.keras.models import Model\n",
    "from tensorflow.keras.layers import Input, Dense, GlobalAveragePooling2D, Dropout\n",
    "from tensorflow.keras.callbacks import EarlyStopping, ModelCheckpoint, ReduceLROnPlateau\n",
    "import matplotlib.pyplot as plt"
   ]
  },
  {
   "cell_type": "code",
   "execution_count": null,
   "metadata": {
    "colab": {
     "base_uri": "https://localhost:8080/"
    },
    "executionInfo": {
     "elapsed": 1365,
     "status": "ok",
     "timestamp": 1749129637082,
     "user": {
      "displayName": "Julius Wuwung",
      "userId": "05760891842249752181"
     },
     "user_tz": -420
    },
    "id": "q1wXJFzvcHsg",
    "outputId": "b2916162-9d05-48d2-d0fd-2596247509a4"
   },
   "outputs": [
    {
     "name": "stdout",
     "output_type": "stream",
     "text": [
      "Drive already mounted at /content/drive; to attempt to forcibly remount, call drive.mount(\"/content/drive\", force_remount=True).\n"
     ]
    }
   ],
   "source": [
    "from google.colab import drive\n",
    "drive.mount('/content/drive')"
   ]
  },
  {
   "cell_type": "code",
   "execution_count": null,
   "metadata": {
    "id": "jZU-LOKVduIR"
   },
   "outputs": [],
   "source": [
    "DATA_DIR = '/content/drive/MyDrive/comvis/dataset/'\n",
    "MODEL_PATH = '/content/drive/MyDrive/comvis/efficientnet_b2_anti_overfit.keras'"
   ]
  },
  {
   "cell_type": "code",
   "execution_count": null,
   "metadata": {
    "colab": {
     "base_uri": "https://localhost:8080/"
    },
    "executionInfo": {
     "elapsed": 2162,
     "status": "ok",
     "timestamp": 1749129641279,
     "user": {
      "displayName": "Julius Wuwung",
      "userId": "05760891842249752181"
     },
     "user_tz": -420
    },
    "id": "C0uyTHIsgQAZ",
    "outputId": "10a9faa1-7c89-4ce9-83f5-91f372d13810"
   },
   "outputs": [
    {
     "name": "stdout",
     "output_type": "stream",
     "text": [
      "Found 8863 files belonging to 2 classes.\n",
      "Found 600 files belonging to 2 classes.\n"
     ]
    }
   ],
   "source": [
    "train_ds = tf.keras.utils.image_dataset_from_directory(\n",
    "    DATA_DIR + 'train',\n",
    "    image_size=(260, 260),\n",
    "    label_mode='binary',\n",
    "    color_mode='rgb',\n",
    "    batch_size=32\n",
    ")\n",
    "\n",
    "val_ds = tf.keras.utils.image_dataset_from_directory(\n",
    "    DATA_DIR + 'val',\n",
    "    image_size=(260, 260),\n",
    "    label_mode='binary',\n",
    "    color_mode='rgb',\n",
    "    batch_size=32\n",
    ")\n",
    "\n",
    "AUTOTUNE = tf.data.AUTOTUNE\n",
    "train_ds = train_ds.prefetch(buffer_size=AUTOTUNE)\n",
    "val_ds = val_ds.prefetch(buffer_size=AUTOTUNE)\n"
   ]
  },
  {
   "cell_type": "code",
   "execution_count": null,
   "metadata": {
    "id": "CdWnmY9Kntf-"
   },
   "outputs": [],
   "source": [
    "data_augmentation = tf.keras.Sequential([\n",
    "    tf.keras.layers.RandomFlip('horizontal'),\n",
    "    tf.keras.layers.RandomRotation(0.2),\n",
    "    tf.keras.layers.RandomZoom(0.2),\n",
    "    tf.keras.layers.RandomContrast(0.2),\n",
    "    tf.keras.layers.RandomBrightness(0.2),\n",
    "], name=\"data_augmentation\")\n"
   ]
  },
  {
   "cell_type": "code",
   "execution_count": null,
   "metadata": {
    "id": "O1MPwAQ5n0Bs"
   },
   "outputs": [],
   "source": [
    "base_model = EfficientNetB2(weights='imagenet', include_top=False, input_shape=(260, 260, 3))\n",
    "base_model.trainable = False\n",
    "\n",
    "inputs = Input(shape=(260, 260, 3))\n",
    "x = data_augmentation(inputs)\n",
    "x = base_model(x, training=False)\n",
    "x = GlobalAveragePooling2D()(x)\n",
    "x = Dropout(0.4)(x)\n",
    "x = Dense(64, activation='relu')(x)  # lebih kecil dari 128\n",
    "x = Dropout(0.5)(x)\n",
    "outputs = Dense(1, activation='sigmoid')(x)\n",
    "model = Model(inputs, outputs)\n"
   ]
  },
  {
   "cell_type": "code",
   "execution_count": null,
   "metadata": {
    "id": "NbJHLBuSn13k"
   },
   "outputs": [],
   "source": [
    "model.compile(optimizer=tf.keras.optimizers.Adam(0.0001),\n",
    "              loss='binary_crossentropy',\n",
    "              metrics=['accuracy'])"
   ]
  },
  {
   "cell_type": "code",
   "execution_count": null,
   "metadata": {
    "id": "tx9Qql8Ln8Ul"
   },
   "outputs": [],
   "source": [
    "early_stop = EarlyStopping(monitor='val_loss', patience=5, restore_best_weights=True, verbose=1)\n",
    "checkpoint = ModelCheckpoint(MODEL_PATH,monitor='val_accuracy',save_best_only=True,mode='max',verbose=1)\n",
    "reduce_lr = ReduceLROnPlateau(monitor='val_loss', factor=0.5, patience=2, min_lr=1e-7, verbose=1)\n",
    "\n",
    "callbacks = [early_stop, checkpoint, reduce_lr]"
   ]
  },
  {
   "cell_type": "code",
   "execution_count": null,
   "metadata": {
    "colab": {
     "base_uri": "https://localhost:8080/"
    },
    "executionInfo": {
     "elapsed": 1064223,
     "status": "ok",
     "timestamp": 1749130715751,
     "user": {
      "displayName": "Julius Wuwung",
      "userId": "05760891842249752181"
     },
     "user_tz": -420
    },
    "id": "Pyb2qCMan-nH",
    "outputId": "12f085b5-4408-407c-b294-82daac6baaf6"
   },
   "outputs": [
    {
     "name": "stdout",
     "output_type": "stream",
     "text": [
      "Epoch 1/15\n",
      "\u001b[1m277/277\u001b[0m \u001b[32m━━━━━━━━━━━━━━━━━━━━\u001b[0m\u001b[37m\u001b[0m \u001b[1m0s\u001b[0m 253ms/step - accuracy: 0.5465 - loss: 0.7063\n",
      "Epoch 1: val_accuracy improved from -inf to 0.62667, saving model to /content/drive/MyDrive/comvis/efficientnet_b2_anti_overfit.keras\n",
      "\u001b[1m277/277\u001b[0m \u001b[32m━━━━━━━━━━━━━━━━━━━━\u001b[0m\u001b[37m\u001b[0m \u001b[1m97s\u001b[0m 291ms/step - accuracy: 0.5466 - loss: 0.7062 - val_accuracy: 0.6267 - val_loss: 0.6138 - learning_rate: 1.0000e-04\n",
      "Epoch 2/15\n",
      "\u001b[1m277/277\u001b[0m \u001b[32m━━━━━━━━━━━━━━━━━━━━\u001b[0m\u001b[37m\u001b[0m \u001b[1m0s\u001b[0m 150ms/step - accuracy: 0.6158 - loss: 0.6493\n",
      "Epoch 2: val_accuracy improved from 0.62667 to 0.73000, saving model to /content/drive/MyDrive/comvis/efficientnet_b2_anti_overfit.keras\n",
      "\u001b[1m277/277\u001b[0m \u001b[32m━━━━━━━━━━━━━━━━━━━━\u001b[0m\u001b[37m\u001b[0m \u001b[1m48s\u001b[0m 172ms/step - accuracy: 0.6159 - loss: 0.6492 - val_accuracy: 0.7300 - val_loss: 0.5579 - learning_rate: 1.0000e-04\n",
      "Epoch 3/15\n",
      "\u001b[1m277/277\u001b[0m \u001b[32m━━━━━━━━━━━━━━━━━━━━\u001b[0m\u001b[37m\u001b[0m \u001b[1m0s\u001b[0m 153ms/step - accuracy: 0.6659 - loss: 0.6041\n",
      "Epoch 3: val_accuracy did not improve from 0.73000\n",
      "\u001b[1m277/277\u001b[0m \u001b[32m━━━━━━━━━━━━━━━━━━━━\u001b[0m\u001b[37m\u001b[0m \u001b[1m80s\u001b[0m 164ms/step - accuracy: 0.6659 - loss: 0.6041 - val_accuracy: 0.7250 - val_loss: 0.5384 - learning_rate: 1.0000e-04\n",
      "Epoch 4/15\n",
      "\u001b[1m277/277\u001b[0m \u001b[32m━━━━━━━━━━━━━━━━━━━━\u001b[0m\u001b[37m\u001b[0m \u001b[1m0s\u001b[0m 150ms/step - accuracy: 0.6855 - loss: 0.5790\n",
      "Epoch 4: val_accuracy improved from 0.73000 to 0.74667, saving model to /content/drive/MyDrive/comvis/efficientnet_b2_anti_overfit.keras\n",
      "\u001b[1m277/277\u001b[0m \u001b[32m━━━━━━━━━━━━━━━━━━━━\u001b[0m\u001b[37m\u001b[0m \u001b[1m84s\u001b[0m 172ms/step - accuracy: 0.6855 - loss: 0.5789 - val_accuracy: 0.7467 - val_loss: 0.5192 - learning_rate: 1.0000e-04\n",
      "Epoch 5/15\n",
      "\u001b[1m277/277\u001b[0m \u001b[32m━━━━━━━━━━━━━━━━━━━━\u001b[0m\u001b[37m\u001b[0m \u001b[1m0s\u001b[0m 152ms/step - accuracy: 0.7140 - loss: 0.5577\n",
      "Epoch 5: val_accuracy improved from 0.74667 to 0.75167, saving model to /content/drive/MyDrive/comvis/efficientnet_b2_anti_overfit.keras\n",
      "\u001b[1m277/277\u001b[0m \u001b[32m━━━━━━━━━━━━━━━━━━━━\u001b[0m\u001b[37m\u001b[0m \u001b[1m46s\u001b[0m 165ms/step - accuracy: 0.7140 - loss: 0.5576 - val_accuracy: 0.7517 - val_loss: 0.5072 - learning_rate: 1.0000e-04\n",
      "Epoch 6/15\n",
      "\u001b[1m277/277\u001b[0m \u001b[32m━━━━━━━━━━━━━━━━━━━━\u001b[0m\u001b[37m\u001b[0m \u001b[1m0s\u001b[0m 151ms/step - accuracy: 0.7120 - loss: 0.5472\n",
      "Epoch 6: val_accuracy did not improve from 0.75167\n",
      "\u001b[1m277/277\u001b[0m \u001b[32m━━━━━━━━━━━━━━━━━━━━\u001b[0m\u001b[37m\u001b[0m \u001b[1m45s\u001b[0m 163ms/step - accuracy: 0.7120 - loss: 0.5472 - val_accuracy: 0.7267 - val_loss: 0.5158 - learning_rate: 1.0000e-04\n",
      "Epoch 7/15\n",
      "\u001b[1m277/277\u001b[0m \u001b[32m━━━━━━━━━━━━━━━━━━━━\u001b[0m\u001b[37m\u001b[0m \u001b[1m0s\u001b[0m 153ms/step - accuracy: 0.7321 - loss: 0.5249\n",
      "Epoch 7: val_accuracy did not improve from 0.75167\n",
      "\n",
      "Epoch 7: ReduceLROnPlateau reducing learning rate to 4.999999873689376e-05.\n",
      "\u001b[1m277/277\u001b[0m \u001b[32m━━━━━━━━━━━━━━━━━━━━\u001b[0m\u001b[37m\u001b[0m \u001b[1m82s\u001b[0m 162ms/step - accuracy: 0.7321 - loss: 0.5248 - val_accuracy: 0.7200 - val_loss: 0.5204 - learning_rate: 1.0000e-04\n",
      "Epoch 8/15\n",
      "\u001b[1m277/277\u001b[0m \u001b[32m━━━━━━━━━━━━━━━━━━━━\u001b[0m\u001b[37m\u001b[0m \u001b[1m0s\u001b[0m 151ms/step - accuracy: 0.7460 - loss: 0.5106\n",
      "Epoch 8: val_accuracy did not improve from 0.75167\n",
      "\u001b[1m277/277\u001b[0m \u001b[32m━━━━━━━━━━━━━━━━━━━━\u001b[0m\u001b[37m\u001b[0m \u001b[1m84s\u001b[0m 169ms/step - accuracy: 0.7460 - loss: 0.5106 - val_accuracy: 0.7283 - val_loss: 0.5108 - learning_rate: 5.0000e-05\n",
      "Epoch 9/15\n",
      "\u001b[1m277/277\u001b[0m \u001b[32m━━━━━━━━━━━━━━━━━━━━\u001b[0m\u001b[37m\u001b[0m \u001b[1m0s\u001b[0m 152ms/step - accuracy: 0.7433 - loss: 0.5204\n",
      "Epoch 9: val_accuracy did not improve from 0.75167\n",
      "\n",
      "Epoch 9: ReduceLROnPlateau reducing learning rate to 2.499999936844688e-05.\n",
      "\u001b[1m277/277\u001b[0m \u001b[32m━━━━━━━━━━━━━━━━━━━━\u001b[0m\u001b[37m\u001b[0m \u001b[1m45s\u001b[0m 162ms/step - accuracy: 0.7433 - loss: 0.5204 - val_accuracy: 0.7300 - val_loss: 0.5106 - learning_rate: 5.0000e-05\n",
      "Epoch 10/15\n",
      "\u001b[1m277/277\u001b[0m \u001b[32m━━━━━━━━━━━━━━━━━━━━\u001b[0m\u001b[37m\u001b[0m \u001b[1m0s\u001b[0m 152ms/step - accuracy: 0.7377 - loss: 0.5137\n",
      "Epoch 10: val_accuracy did not improve from 0.75167\n",
      "\u001b[1m277/277\u001b[0m \u001b[32m━━━━━━━━━━━━━━━━━━━━\u001b[0m\u001b[37m\u001b[0m \u001b[1m48s\u001b[0m 172ms/step - accuracy: 0.7377 - loss: 0.5137 - val_accuracy: 0.7367 - val_loss: 0.5023 - learning_rate: 2.5000e-05\n",
      "Epoch 11/15\n",
      "\u001b[1m277/277\u001b[0m \u001b[32m━━━━━━━━━━━━━━━━━━━━\u001b[0m\u001b[37m\u001b[0m \u001b[1m0s\u001b[0m 154ms/step - accuracy: 0.7403 - loss: 0.5161\n",
      "Epoch 11: val_accuracy did not improve from 0.75167\n",
      "\u001b[1m277/277\u001b[0m \u001b[32m━━━━━━━━━━━━━━━━━━━━\u001b[0m\u001b[37m\u001b[0m \u001b[1m80s\u001b[0m 165ms/step - accuracy: 0.7403 - loss: 0.5160 - val_accuracy: 0.7267 - val_loss: 0.5072 - learning_rate: 2.5000e-05\n",
      "Epoch 12/15\n",
      "\u001b[1m277/277\u001b[0m \u001b[32m━━━━━━━━━━━━━━━━━━━━\u001b[0m\u001b[37m\u001b[0m \u001b[1m0s\u001b[0m 151ms/step - accuracy: 0.7516 - loss: 0.4974\n",
      "Epoch 12: val_accuracy did not improve from 0.75167\n",
      "\n",
      "Epoch 12: ReduceLROnPlateau reducing learning rate to 1.249999968422344e-05.\n",
      "\u001b[1m277/277\u001b[0m \u001b[32m━━━━━━━━━━━━━━━━━━━━\u001b[0m\u001b[37m\u001b[0m \u001b[1m81s\u001b[0m 161ms/step - accuracy: 0.7516 - loss: 0.4974 - val_accuracy: 0.7300 - val_loss: 0.5065 - learning_rate: 2.5000e-05\n",
      "Epoch 13/15\n",
      "\u001b[1m277/277\u001b[0m \u001b[32m━━━━━━━━━━━━━━━━━━━━\u001b[0m\u001b[37m\u001b[0m \u001b[1m0s\u001b[0m 150ms/step - accuracy: 0.7473 - loss: 0.4990\n",
      "Epoch 13: val_accuracy did not improve from 0.75167\n",
      "\u001b[1m277/277\u001b[0m \u001b[32m━━━━━━━━━━━━━━━━━━━━\u001b[0m\u001b[37m\u001b[0m \u001b[1m81s\u001b[0m 160ms/step - accuracy: 0.7473 - loss: 0.4990 - val_accuracy: 0.7400 - val_loss: 0.5023 - learning_rate: 1.2500e-05\n",
      "Epoch 14/15\n",
      "\u001b[1m277/277\u001b[0m \u001b[32m━━━━━━━━━━━━━━━━━━━━\u001b[0m\u001b[37m\u001b[0m \u001b[1m0s\u001b[0m 151ms/step - accuracy: 0.7569 - loss: 0.4944\n",
      "Epoch 14: val_accuracy did not improve from 0.75167\n",
      "\n",
      "Epoch 14: ReduceLROnPlateau reducing learning rate to 6.24999984211172e-06.\n",
      "\u001b[1m277/277\u001b[0m \u001b[32m━━━━━━━━━━━━━━━━━━━━\u001b[0m\u001b[37m\u001b[0m \u001b[1m82s\u001b[0m 161ms/step - accuracy: 0.7569 - loss: 0.4944 - val_accuracy: 0.7350 - val_loss: 0.5030 - learning_rate: 1.2500e-05\n",
      "Epoch 15/15\n",
      "\u001b[1m277/277\u001b[0m \u001b[32m━━━━━━━━━━━━━━━━━━━━\u001b[0m\u001b[37m\u001b[0m \u001b[1m0s\u001b[0m 149ms/step - accuracy: 0.7608 - loss: 0.4923\n",
      "Epoch 15: val_accuracy did not improve from 0.75167\n",
      "\u001b[1m277/277\u001b[0m \u001b[32m━━━━━━━━━━━━━━━━━━━━\u001b[0m\u001b[37m\u001b[0m \u001b[1m81s\u001b[0m 158ms/step - accuracy: 0.7608 - loss: 0.4923 - val_accuracy: 0.7333 - val_loss: 0.5024 - learning_rate: 6.2500e-06\n",
      "Epoch 15: early stopping\n",
      "Restoring model weights from the end of the best epoch: 10.\n"
     ]
    }
   ],
   "source": [
    "history = model.fit(train_ds, validation_data=val_ds, epochs=15, callbacks=callbacks)\n"
   ]
  },
  {
   "cell_type": "code",
   "execution_count": null,
   "metadata": {
    "colab": {
     "base_uri": "https://localhost:8080/"
    },
    "executionInfo": {
     "elapsed": 1525130,
     "status": "ok",
     "timestamp": 1749132263223,
     "user": {
      "displayName": "Julius Wuwung",
      "userId": "05760891842249752181"
     },
     "user_tz": -420
    },
    "id": "95-slnJboEEY",
    "outputId": "9eaf2011-ca33-4e82-f831-ae68c34ab014"
   },
   "outputs": [
    {
     "name": "stdout",
     "output_type": "stream",
     "text": [
      "Epoch 1/15\n",
      "\u001b[1m277/277\u001b[0m \u001b[32m━━━━━━━━━━━━━━━━━━━━\u001b[0m\u001b[37m\u001b[0m \u001b[1m0s\u001b[0m 695ms/step - accuracy: 0.6271 - loss: 0.6586\n",
      "Epoch 1: val_accuracy did not improve from 0.75167\n",
      "\u001b[1m277/277\u001b[0m \u001b[32m━━━━━━━━━━━━━━━━━━━━\u001b[0m\u001b[37m\u001b[0m \u001b[1m265s\u001b[0m 730ms/step - accuracy: 0.6272 - loss: 0.6584 - val_accuracy: 0.7000 - val_loss: 0.5640 - learning_rate: 1.0000e-05\n",
      "Epoch 2/15\n",
      "\u001b[1m277/277\u001b[0m \u001b[32m━━━━━━━━━━━━━━━━━━━━\u001b[0m\u001b[37m\u001b[0m \u001b[1m0s\u001b[0m 692ms/step - accuracy: 0.7376 - loss: 0.5213\n",
      "Epoch 2: val_accuracy did not improve from 0.75167\n",
      "\u001b[1m277/277\u001b[0m \u001b[32m━━━━━━━━━━━━━━━━━━━━\u001b[0m\u001b[37m\u001b[0m \u001b[1m254s\u001b[0m 702ms/step - accuracy: 0.7377 - loss: 0.5212 - val_accuracy: 0.7033 - val_loss: 0.5329 - learning_rate: 1.0000e-05\n",
      "Epoch 3/15\n",
      "\u001b[1m277/277\u001b[0m \u001b[32m━━━━━━━━━━━━━━━━━━━━\u001b[0m\u001b[37m\u001b[0m \u001b[1m0s\u001b[0m 694ms/step - accuracy: 0.8139 - loss: 0.4163\n",
      "Epoch 3: val_accuracy did not improve from 0.75167\n",
      "\u001b[1m277/277\u001b[0m \u001b[32m━━━━━━━━━━━━━━━━━━━━\u001b[0m\u001b[37m\u001b[0m \u001b[1m202s\u001b[0m 704ms/step - accuracy: 0.8140 - loss: 0.4162 - val_accuracy: 0.6717 - val_loss: 0.5750 - learning_rate: 1.0000e-05\n",
      "Epoch 4/15\n",
      "\u001b[1m277/277\u001b[0m \u001b[32m━━━━━━━━━━━━━━━━━━━━\u001b[0m\u001b[37m\u001b[0m \u001b[1m0s\u001b[0m 695ms/step - accuracy: 0.8725 - loss: 0.3098\n",
      "Epoch 4: val_accuracy did not improve from 0.75167\n",
      "\n",
      "Epoch 4: ReduceLROnPlateau reducing learning rate to 4.999999873689376e-06.\n",
      "\u001b[1m277/277\u001b[0m \u001b[32m━━━━━━━━━━━━━━━━━━━━\u001b[0m\u001b[37m\u001b[0m \u001b[1m205s\u001b[0m 714ms/step - accuracy: 0.8726 - loss: 0.3097 - val_accuracy: 0.6817 - val_loss: 0.5836 - learning_rate: 1.0000e-05\n",
      "Epoch 5/15\n",
      "\u001b[1m277/277\u001b[0m \u001b[32m━━━━━━━━━━━━━━━━━━━━\u001b[0m\u001b[37m\u001b[0m \u001b[1m0s\u001b[0m 697ms/step - accuracy: 0.9097 - loss: 0.2388\n",
      "Epoch 5: val_accuracy did not improve from 0.75167\n",
      "\u001b[1m277/277\u001b[0m \u001b[32m━━━━━━━━━━━━━━━━━━━━\u001b[0m\u001b[37m\u001b[0m \u001b[1m196s\u001b[0m 708ms/step - accuracy: 0.9097 - loss: 0.2388 - val_accuracy: 0.6817 - val_loss: 0.6085 - learning_rate: 5.0000e-06\n",
      "Epoch 6/15\n",
      "\u001b[1m277/277\u001b[0m \u001b[32m━━━━━━━━━━━━━━━━━━━━\u001b[0m\u001b[37m\u001b[0m \u001b[1m0s\u001b[0m 696ms/step - accuracy: 0.9238 - loss: 0.2056\n",
      "Epoch 6: val_accuracy did not improve from 0.75167\n",
      "\n",
      "Epoch 6: ReduceLROnPlateau reducing learning rate to 2.499999936844688e-06.\n",
      "\u001b[1m277/277\u001b[0m \u001b[32m━━━━━━━━━━━━━━━━━━━━\u001b[0m\u001b[37m\u001b[0m \u001b[1m201s\u001b[0m 706ms/step - accuracy: 0.9238 - loss: 0.2056 - val_accuracy: 0.6817 - val_loss: 0.6639 - learning_rate: 5.0000e-06\n",
      "Epoch 7/15\n",
      "\u001b[1m277/277\u001b[0m \u001b[32m━━━━━━━━━━━━━━━━━━━━\u001b[0m\u001b[37m\u001b[0m \u001b[1m0s\u001b[0m 695ms/step - accuracy: 0.9376 - loss: 0.1750\n",
      "Epoch 7: val_accuracy did not improve from 0.75167\n",
      "\u001b[1m277/277\u001b[0m \u001b[32m━━━━━━━━━━━━━━━━━━━━\u001b[0m\u001b[37m\u001b[0m \u001b[1m202s\u001b[0m 705ms/step - accuracy: 0.9376 - loss: 0.1750 - val_accuracy: 0.6950 - val_loss: 0.6253 - learning_rate: 2.5000e-06\n",
      "Epoch 7: early stopping\n",
      "Restoring model weights from the end of the best epoch: 2.\n"
     ]
    }
   ],
   "source": [
    "base_model.trainable = True\n",
    "model.compile(optimizer=tf.keras.optimizers.Adam(1e-5),\n",
    "              loss='binary_crossentropy',\n",
    "              metrics=['accuracy'])\n",
    "\n",
    "fine_tune_history = model.fit(train_ds, validation_data=val_ds, epochs=15, callbacks=callbacks)\n"
   ]
  },
  {
   "cell_type": "code",
   "execution_count": null,
   "metadata": {
    "colab": {
     "base_uri": "https://localhost:8080/",
     "height": 487
    },
    "executionInfo": {
     "elapsed": 301,
     "status": "ok",
     "timestamp": 1749132300751,
     "user": {
      "displayName": "Julius Wuwung",
      "userId": "05760891842249752181"
     },
     "user_tz": -420
    },
    "id": "0LEXzQKToG3m",
    "outputId": "844f9c71-1886-402a-85d9-1581679bbe1d"
   },
   "outputs": [
    {
     "data": {
      "image/png": "[encoded data removed]",
      "text/plain": [
       "<Figure size 800x500 with 1 Axes>"
      ]
     },
     "metadata": {},
     "output_type": "display_data"
    }
   ],
   "source": [
    "acc = history.history['accuracy'] + fine_tune_history.history['accuracy']\n",
    "val_acc = history.history['val_accuracy'] + fine_tune_history.history['val_accuracy']\n",
    "\n",
    "plt.figure(figsize=(8, 5))\n",
    "plt.plot(acc, label='Train Accuracy')\n",
    "plt.plot(val_acc, label='Validation Accuracy')\n",
    "plt.title('Training vs Validation Accuracy')\n",
    "plt.xlabel('Epoch')\n",
    "plt.ylabel('Accuracy')\n",
    "plt.legend(loc='lower right')\n",
    "plt.grid(True)\n",
    "plt.savefig('/content/drive/MyDrive/comvis/acc_anti_overfit.png')\n",
    "plt.show()\n",
    "\n"
   ]
  },
  {
   "cell_type": "code",
   "execution_count": null,
   "metadata": {
    "colab": {
     "base_uri": "https://localhost:8080/"
    },
    "executionInfo": {
     "elapsed": 2814,
     "status": "ok",
     "timestamp": 1749132307939,
     "user": {
      "displayName": "Julius Wuwung",
      "userId": "05760891842249752181"
     },
     "user_tz": -420
    },
    "id": "HZ9sSmrqOHzg",
    "outputId": "1b8f9846-c106-4be0-82f0-c41222387790"
   },
   "outputs": [
    {
     "name": "stdout",
     "output_type": "stream",
     "text": [
      "\u001b[1m19/19\u001b[0m \u001b[32m━━━━━━━━━━━━━━━━━━━━\u001b[0m\u001b[37m\u001b[0m \u001b[1m3s\u001b[0m 139ms/step - accuracy: 0.7023 - loss: 0.5410\n",
      "\n",
      "✅ Final Validation Accuracy: 70.33%\n"
     ]
    }
   ],
   "source": [
    "loss, acc = model.evaluate(val_ds)\n",
    "print(f\"\\n✅ Final Validation Accuracy: {acc * 100:.2f}%\")"
   ]
  }
 ],
 "metadata": {
  "accelerator": "GPU",
  "colab": {
   "authorship_tag": "ABX9TyMXRyQfYoRjvZMa5PDfUIq1",
   "gpuType": "T4",
   "mount_file_id": "1zG78ORXrqmQm8nPeT57az13icgFIaURZ",
   "provenance": []
  },
  "kernelspec": {
   "display_name": "Python 3",
   "name": "python3"
  },
  "language_info": {
   "name": "python"
  }
 },
 "nbformat": 4,
 "nbformat_minor": 0
}
